{
  "nbformat": 4,
  "nbformat_minor": 0,
  "metadata": {
    "colab": {
      "provenance": [],
      "gpuType": "T4",
      "authorship_tag": "ABX9TyMtYfshSSws7YLwfD+96/1k",
      "include_colab_link": true
    },
    "kernelspec": {
      "name": "python3",
      "display_name": "Python 3"
    },
    "language_info": {
      "name": "python"
    },
    "accelerator": "GPU"
  },
  "cells": [
    {
      "cell_type": "markdown",
      "metadata": {
        "id": "view-in-github",
        "colab_type": "text"
      },
      "source": [
        "<a href=\"https://colab.research.google.com/github/Alvira-Parveen/multimodal-fake-news-/blob/main/multimodal_fake_news.ipynb\" target=\"_parent\"><img src=\"https://colab.research.google.com/assets/colab-badge.svg\" alt=\"Open In Colab\"/></a>"
      ]
    },
    {
      "cell_type": "code",
      "execution_count": 19,
      "metadata": {
        "colab": {
          "base_uri": "https://localhost:8080/"
        },
        "id": "_f-T1SCj1kXz",
        "outputId": "c39f126b-4fc1-4d20-fba6-9d5031048d5c"
      },
      "outputs": [
        {
          "output_type": "stream",
          "name": "stdout",
          "text": [
            "Mon Sep 29 15:41:21 2025       \n",
            "+-----------------------------------------------------------------------------------------+\n",
            "| NVIDIA-SMI 550.54.15              Driver Version: 550.54.15      CUDA Version: 12.4     |\n",
            "|-----------------------------------------+------------------------+----------------------+\n",
            "| GPU  Name                 Persistence-M | Bus-Id          Disp.A | Volatile Uncorr. ECC |\n",
            "| Fan  Temp   Perf          Pwr:Usage/Cap |           Memory-Usage | GPU-Util  Compute M. |\n",
            "|                                         |                        |               MIG M. |\n",
            "|=========================================+========================+======================|\n",
            "|   0  Tesla T4                       Off |   00000000:00:04.0 Off |                    0 |\n",
            "| N/A   55C    P0             28W /   70W |     644MiB /  15360MiB |      0%      Default |\n",
            "|                                         |                        |                  N/A |\n",
            "+-----------------------------------------+------------------------+----------------------+\n",
            "                                                                                         \n",
            "+-----------------------------------------------------------------------------------------+\n",
            "| Processes:                                                                              |\n",
            "|  GPU   GI   CI        PID   Type   Process name                              GPU Memory |\n",
            "|        ID   ID                                                               Usage      |\n",
            "|=========================================================================================|\n",
            "+-----------------------------------------------------------------------------------------+\n",
            "Requirement already satisfied: torch in /usr/local/lib/python3.12/dist-packages (2.8.0+cu126)\n",
            "Requirement already satisfied: torchvision in /usr/local/lib/python3.12/dist-packages (0.23.0+cu126)\n",
            "Requirement already satisfied: transformers in /usr/local/lib/python3.12/dist-packages (4.56.1)\n",
            "Requirement already satisfied: tqdm in /usr/local/lib/python3.12/dist-packages (4.67.1)\n",
            "Requirement already satisfied: scikit-learn in /usr/local/lib/python3.12/dist-packages (1.6.1)\n",
            "Requirement already satisfied: pillow in /usr/local/lib/python3.12/dist-packages (11.3.0)\n",
            "Requirement already satisfied: requests in /usr/local/lib/python3.12/dist-packages (2.32.4)\n",
            "Requirement already satisfied: filelock in /usr/local/lib/python3.12/dist-packages (from torch) (3.19.1)\n",
            "Requirement already satisfied: typing-extensions>=4.10.0 in /usr/local/lib/python3.12/dist-packages (from torch) (4.15.0)\n",
            "Requirement already satisfied: setuptools in /usr/local/lib/python3.12/dist-packages (from torch) (75.2.0)\n",
            "Requirement already satisfied: sympy>=1.13.3 in /usr/local/lib/python3.12/dist-packages (from torch) (1.13.3)\n",
            "Requirement already satisfied: networkx in /usr/local/lib/python3.12/dist-packages (from torch) (3.5)\n",
            "Requirement already satisfied: jinja2 in /usr/local/lib/python3.12/dist-packages (from torch) (3.1.6)\n",
            "Requirement already satisfied: fsspec in /usr/local/lib/python3.12/dist-packages (from torch) (2025.3.0)\n",
            "Requirement already satisfied: nvidia-cuda-nvrtc-cu12==12.6.77 in /usr/local/lib/python3.12/dist-packages (from torch) (12.6.77)\n",
            "Requirement already satisfied: nvidia-cuda-runtime-cu12==12.6.77 in /usr/local/lib/python3.12/dist-packages (from torch) (12.6.77)\n",
            "Requirement already satisfied: nvidia-cuda-cupti-cu12==12.6.80 in /usr/local/lib/python3.12/dist-packages (from torch) (12.6.80)\n",
            "Requirement already satisfied: nvidia-cudnn-cu12==9.10.2.21 in /usr/local/lib/python3.12/dist-packages (from torch) (9.10.2.21)\n",
            "Requirement already satisfied: nvidia-cublas-cu12==12.6.4.1 in /usr/local/lib/python3.12/dist-packages (from torch) (12.6.4.1)\n",
            "Requirement already satisfied: nvidia-cufft-cu12==11.3.0.4 in /usr/local/lib/python3.12/dist-packages (from torch) (11.3.0.4)\n",
            "Requirement already satisfied: nvidia-curand-cu12==10.3.7.77 in /usr/local/lib/python3.12/dist-packages (from torch) (10.3.7.77)\n",
            "Requirement already satisfied: nvidia-cusolver-cu12==11.7.1.2 in /usr/local/lib/python3.12/dist-packages (from torch) (11.7.1.2)\n",
            "Requirement already satisfied: nvidia-cusparse-cu12==12.5.4.2 in /usr/local/lib/python3.12/dist-packages (from torch) (12.5.4.2)\n",
            "Requirement already satisfied: nvidia-cusparselt-cu12==0.7.1 in /usr/local/lib/python3.12/dist-packages (from torch) (0.7.1)\n",
            "Requirement already satisfied: nvidia-nccl-cu12==2.27.3 in /usr/local/lib/python3.12/dist-packages (from torch) (2.27.3)\n",
            "Requirement already satisfied: nvidia-nvtx-cu12==12.6.77 in /usr/local/lib/python3.12/dist-packages (from torch) (12.6.77)\n",
            "Requirement already satisfied: nvidia-nvjitlink-cu12==12.6.85 in /usr/local/lib/python3.12/dist-packages (from torch) (12.6.85)\n",
            "Requirement already satisfied: nvidia-cufile-cu12==1.11.1.6 in /usr/local/lib/python3.12/dist-packages (from torch) (1.11.1.6)\n",
            "Requirement already satisfied: triton==3.4.0 in /usr/local/lib/python3.12/dist-packages (from torch) (3.4.0)\n",
            "Requirement already satisfied: numpy in /usr/local/lib/python3.12/dist-packages (from torchvision) (2.0.2)\n",
            "Requirement already satisfied: huggingface-hub<1.0,>=0.34.0 in /usr/local/lib/python3.12/dist-packages (from transformers) (0.35.0)\n",
            "Requirement already satisfied: packaging>=20.0 in /usr/local/lib/python3.12/dist-packages (from transformers) (25.0)\n",
            "Requirement already satisfied: pyyaml>=5.1 in /usr/local/lib/python3.12/dist-packages (from transformers) (6.0.2)\n",
            "Requirement already satisfied: regex!=2019.12.17 in /usr/local/lib/python3.12/dist-packages (from transformers) (2024.11.6)\n",
            "Requirement already satisfied: tokenizers<=0.23.0,>=0.22.0 in /usr/local/lib/python3.12/dist-packages (from transformers) (0.22.0)\n",
            "Requirement already satisfied: safetensors>=0.4.3 in /usr/local/lib/python3.12/dist-packages (from transformers) (0.6.2)\n",
            "Requirement already satisfied: scipy>=1.6.0 in /usr/local/lib/python3.12/dist-packages (from scikit-learn) (1.16.2)\n",
            "Requirement already satisfied: joblib>=1.2.0 in /usr/local/lib/python3.12/dist-packages (from scikit-learn) (1.5.2)\n",
            "Requirement already satisfied: threadpoolctl>=3.1.0 in /usr/local/lib/python3.12/dist-packages (from scikit-learn) (3.6.0)\n",
            "Requirement already satisfied: charset_normalizer<4,>=2 in /usr/local/lib/python3.12/dist-packages (from requests) (3.4.3)\n",
            "Requirement already satisfied: idna<4,>=2.5 in /usr/local/lib/python3.12/dist-packages (from requests) (3.10)\n",
            "Requirement already satisfied: urllib3<3,>=1.21.1 in /usr/local/lib/python3.12/dist-packages (from requests) (2.5.0)\n",
            "Requirement already satisfied: certifi>=2017.4.17 in /usr/local/lib/python3.12/dist-packages (from requests) (2025.8.3)\n",
            "Requirement already satisfied: hf-xet<2.0.0,>=1.1.3 in /usr/local/lib/python3.12/dist-packages (from huggingface-hub<1.0,>=0.34.0->transformers) (1.1.10)\n",
            "Requirement already satisfied: mpmath<1.4,>=1.1.0 in /usr/local/lib/python3.12/dist-packages (from sympy>=1.13.3->torch) (1.3.0)\n",
            "Requirement already satisfied: MarkupSafe>=2.0 in /usr/local/lib/python3.12/dist-packages (from jinja2->torch) (3.0.2)\n"
          ]
        }
      ],
      "source": [
        "# Step 1 – Setup (GPU + installs)\n",
        "\n",
        "!nvidia-smi   # check if GPU is available\n",
        "!pip install torch torchvision transformers tqdm scikit-learn pillow requests\n",
        ""
      ]
    },
    {
      "cell_type": "code",
      "source": [
        "# Step 2 – Mount Google Drive & unzip dataset\n",
        "\n",
        "from google.colab import drive\n",
        "drive.mount('/content/drive')\n",
        "\n",
        "import os, zipfile\n",
        "\n",
        "ZIP_PATH = \"/content/drive/MyDrive/Dataset/weibo.zip\"\n",
        "BASE_DIR = \"/content/weibo\"\n",
        "\n",
        "if not os.path.exists(BASE_DIR):\n",
        "    print(\"Unzipping dataset...\")\n",
        "    with zipfile.ZipFile(ZIP_PATH, 'r') as z:\n",
        "        z.extractall(BASE_DIR)\n",
        "else:\n",
        "    print(\"Already extracted:\", BASE_DIR)\n",
        "\n",
        "!ls /content/weibo | head -20\n"
      ],
      "metadata": {
        "colab": {
          "base_uri": "https://localhost:8080/"
        },
        "id": "yVv1eMWLIZY1",
        "outputId": "4d0100d8-fcd0-48fc-ba3d-4c2640dc6d3c"
      },
      "execution_count": 20,
      "outputs": [
        {
          "output_type": "stream",
          "name": "stdout",
          "text": [
            "Mounted at /content/drive\n",
            "Unzipping dataset...\n",
            "Description\n",
            "fake_news\n",
            "real_news\n"
          ]
        }
      ]
    },
    {
      "cell_type": "code",
      "source": [
        "# Step 3 – Parse JSON files into DataFrame\n",
        "\n",
        "import json, pandas as pd\n",
        "\n",
        "rows = []\n",
        "for root, dirs, files in os.walk(BASE_DIR):\n",
        "    for f in files:\n",
        "        if f == \"new.json\":\n",
        "            label = 1 if \"fake_news\" in root else (0 if \"real_news\" in root else None)\n",
        "            if label is not None:\n",
        "                try:\n",
        "                    with open(os.path.join(root, f), \"r\", encoding=\"utf-8\") as fh:\n",
        "                        j = json.load(fh)\n",
        "                    text = (j.get(\"text_raw\") or j.get(\"text\") or \"\").strip()\n",
        "                    image_url = None\n",
        "                    pic_infos = j.get(\"pic_infos\", {})\n",
        "                    if isinstance(pic_infos, dict) and len(pic_infos) > 0:\n",
        "                        first = list(pic_infos.values())[0]\n",
        "                        for key in (\"original\",\"large\",\"bmiddle\",\"mw2000\"):\n",
        "                            if isinstance(first.get(key), dict) and \"url\" in first[key]:\n",
        "                                image_url = first[key][\"url\"]; break\n",
        "                    if text:\n",
        "                        rows.append([text, image_url, label])\n",
        "                except:\n",
        "                    continue\n",
        "\n",
        "df = pd.DataFrame(rows, columns=[\"text\",\"image_url\",\"label\"])\n",
        "print(\"✅ Parsed samples:\", len(df))\n",
        "print(df.head())\n",
        "print(df[\"label\"].value_counts())\n",
        "\n",
        "CLEAN_CSV = os.path.join(BASE_DIR, \"weibo_clean.csv\")\n",
        "df.to_csv(CLEAN_CSV, index=False)\n",
        "print(\"Saved clean dataset to\", CLEAN_CSV)\n"
      ],
      "metadata": {
        "colab": {
          "base_uri": "https://localhost:8080/"
        },
        "id": "sguLO6MmIdwf",
        "outputId": "8566a165-c6cf-4640-c352-23b379f351fc"
      },
      "execution_count": 21,
      "outputs": [
        {
          "output_type": "stream",
          "name": "stdout",
          "text": [
            "✅ Parsed samples: 11329\n",
            "                                                text  \\\n",
            "0                                  流浪狗 流浪猫  流浪鸡… ​​​   \n",
            "1  #官方回应玛莎拉蒂女司机醉驾找关系# 官方回应正在核查，老百姓其实更想知道，网传的这俩人，一...   \n",
            "2                        #韩国民众在汉江拍到水怪#\\n鉴定为挂住的塑料 ​​​   \n",
            "3                               我要去 我现在就收拾行李 拜拜了 ​​​   \n",
            "4  #黎巴嫩首都突发爆炸#当地时间4日，黎巴嫩首都发生爆炸，天空出现蘑菇云，死亡人数达到上千人。...   \n",
            "\n",
            "                                           image_url  label  \n",
            "0  https://wx3.sinaimg.cn/orj1080/006zt3X9gy1hdaz...      1  \n",
            "1  https://wx1.sinaimg.cn/orj1080/6dbbb365ly1gw9a...      1  \n",
            "2  https://wx2.sinaimg.cn/orj1080/006WjnFPly1h60m...      1  \n",
            "3  https://wx3.sinaimg.cn/orj1080/008pOE3Mly1h8bo...      1  \n",
            "4                                               None      1  \n",
            "label\n",
            "0    5668\n",
            "1    5661\n",
            "Name: count, dtype: int64\n",
            "Saved clean dataset to /content/weibo/weibo_clean.csv\n"
          ]
        }
      ]
    },
    {
      "cell_type": "code",
      "source": [
        "# Step 4 – Train / Test split\n",
        "\n",
        "from sklearn.model_selection import train_test_split\n",
        "\n",
        "train_df, test_df = train_test_split(\n",
        "    df, test_size=0.2, stratify=df[\"label\"], random_state=42\n",
        ")\n",
        "\n",
        "print(\"Train samples:\", len(train_df))\n",
        "print(\"Test samples:\", len(test_df))\n"
      ],
      "metadata": {
        "colab": {
          "base_uri": "https://localhost:8080/"
        },
        "id": "LtviTOa7Ig03",
        "outputId": "d0423564-d8ab-44a7-c6c3-ffcf516406c5"
      },
      "execution_count": 22,
      "outputs": [
        {
          "output_type": "stream",
          "name": "stdout",
          "text": [
            "Train samples: 9063\n",
            "Test samples: 2266\n"
          ]
        }
      ]
    },
    {
      "cell_type": "code",
      "source": [
        "# Step 5 – Download images\n",
        "\n",
        "import requests\n",
        "from tqdm import tqdm\n",
        "\n",
        "IMAGES_DIR = \"/content/weibo_images\"\n",
        "os.makedirs(IMAGES_DIR, exist_ok=True)\n",
        "\n",
        "session = requests.Session()\n",
        "session.headers.update({\"User-Agent\": \"Mozilla/5.0\"})\n",
        "\n",
        "def download_images(df, limit=None):\n",
        "    downloaded = 0\n",
        "    local_paths = []\n",
        "    for i, row in tqdm(df.iterrows(), total=len(df)):\n",
        "        url = row[\"image_url\"]; local_path = None\n",
        "        if isinstance(url, str) and url.strip():\n",
        "            try:\n",
        "                local_path = os.path.join(IMAGES_DIR, f\"{i}.jpg\")\n",
        "                if not os.path.exists(local_path):\n",
        "                    resp = session.get(url, timeout=8)\n",
        "                    if resp.status_code == 200:\n",
        "                        with open(local_path, \"wb\") as fh:\n",
        "                            fh.write(resp.content)\n",
        "                if os.path.exists(local_path): downloaded += 1\n",
        "            except: local_path = None\n",
        "        local_paths.append(local_path)\n",
        "        if limit and downloaded >= limit: break\n",
        "    print(\"Downloaded:\", downloaded)\n",
        "    return local_paths\n",
        "\n",
        "train_df = train_df.reset_index(drop=True)\n",
        "test_df  = test_df.reset_index(drop=True)\n",
        "\n",
        "train_df[\"image\"] = download_images(train_df, limit=2000)   # safe limit first run\n",
        "test_df[\"image\"]  = download_images(test_df, limit=500)\n",
        "\n",
        "train_df.to_csv(\"/content/train_with_images.csv\", index=False)\n",
        "test_df.to_csv(\"/content/test_with_images.csv\", index=False)\n",
        "print(\"✅ Saved train/test datasets with local image paths\")\n"
      ],
      "metadata": {
        "colab": {
          "base_uri": "https://localhost:8080/"
        },
        "id": "XtkDPpSXIksy",
        "outputId": "6a64be98-0cbc-4453-bfba-3fc50dfee3cc"
      },
      "execution_count": 23,
      "outputs": [
        {
          "output_type": "stream",
          "name": "stderr",
          "text": [
            "100%|██████████| 9063/9063 [00:20<00:00, 452.04it/s]\n"
          ]
        },
        {
          "output_type": "stream",
          "name": "stdout",
          "text": [
            "Downloaded: 0\n"
          ]
        },
        {
          "output_type": "stream",
          "name": "stderr",
          "text": [
            "100%|██████████| 2266/2266 [00:04<00:00, 496.04it/s]"
          ]
        },
        {
          "output_type": "stream",
          "name": "stdout",
          "text": [
            "Downloaded: 0\n",
            "✅ Saved train/test datasets with local image paths\n"
          ]
        },
        {
          "output_type": "stream",
          "name": "stderr",
          "text": [
            "\n"
          ]
        }
      ]
    },
    {
      "cell_type": "code",
      "source": [
        "# Step 6 – Dataset + DataLoader\n",
        "\n",
        "import torch\n",
        "from torch.utils.data import Dataset, DataLoader\n",
        "from torchvision import transforms\n",
        "from PIL import Image\n",
        "from transformers import BertTokenizer\n",
        "\n",
        "BATCH_SIZE = 16\n",
        "MAX_LEN = 64\n",
        "DEVICE = torch.device(\"cuda\" if torch.cuda.is_available() else \"cpu\")\n",
        "print(\"✅ Using device:\", DEVICE)\n",
        "\n",
        "tokenizer = BertTokenizer.from_pretrained(\"bert-base-chinese\")\n",
        "\n",
        "image_transform = transforms.Compose([\n",
        "    transforms.Resize((224,224)),\n",
        "    transforms.ToTensor(),\n",
        "    transforms.Normalize([0.485,0.456,0.406],[0.229,0.224,0.225])\n",
        "])\n",
        "\n",
        "class WeiboDataset(Dataset):\n",
        "    def __init__(self, df, tokenizer, transform, max_length=64):\n",
        "        self.df = df.reset_index(drop=True)\n",
        "        self.tokenizer = tokenizer\n",
        "        self.transform = transform\n",
        "        self.max_length = max_length\n",
        "    def __len__(self): return len(self.df)\n",
        "    def __getitem__(self, idx):\n",
        "        row = self.df.iloc[idx]\n",
        "        text = str(row[\"text\"])\n",
        "        enc = self.tokenizer(text, padding=\"max_length\", truncation=True,\n",
        "                             max_length=self.max_length, return_tensors=\"pt\")\n",
        "        input_ids = enc[\"input_ids\"].squeeze(0)\n",
        "        attention_mask = enc[\"attention_mask\"].squeeze(0)\n",
        "        img_path = row.get(\"image\")\n",
        "        if isinstance(img_path, str) and os.path.exists(img_path):\n",
        "            img = Image.open(img_path).convert(\"RGB\"); image = self.transform(img)\n",
        "        else:\n",
        "            image = torch.zeros(3,224,224)\n",
        "        label = int(row[\"label\"])\n",
        "        return {\"input_ids\": input_ids,\"attention_mask\": attention_mask,\n",
        "                \"image\": image,\"label\": torch.tensor(label)}\n",
        "\n",
        "train_df = pd.read_csv(\"/content/train_with_images.csv\")\n",
        "test_df  = pd.read_csv(\"/content/test_with_images.csv\")\n",
        "\n",
        "train_ds = WeiboDataset(train_df, tokenizer, image_transform, max_length=MAX_LEN)\n",
        "test_ds  = WeiboDataset(test_df, tokenizer, image_transform, max_length=MAX_LEN)\n",
        "\n",
        "train_loader = DataLoader(train_ds, batch_size=BATCH_SIZE, shuffle=True)\n",
        "test_loader  = DataLoader(test_ds, batch_size=BATCH_SIZE, shuffle=False)\n",
        "\n",
        "batch = next(iter(train_loader))\n",
        "print(\"✅ Batch shapes:\", batch[\"input_ids\"].shape, batch[\"image\"].shape, batch[\"label\"].shape)\n"
      ],
      "metadata": {
        "colab": {
          "base_uri": "https://localhost:8080/"
        },
        "id": "sVKJTlgBInge",
        "outputId": "921e9f56-31fa-41cd-8a68-470961a7df8d"
      },
      "execution_count": 25,
      "outputs": [
        {
          "output_type": "stream",
          "name": "stdout",
          "text": [
            "✅ Using device: cuda\n",
            "✅ Batch shapes: torch.Size([16, 64]) torch.Size([16, 3, 224, 224]) torch.Size([16])\n"
          ]
        }
      ]
    },
    {
      "cell_type": "code",
      "source": [
        "# Step 7 – Define Multimodal Model (BERT + ResNet50 Fusion)\n",
        "\n",
        "import torch.nn as nn\n",
        "from torchvision import models\n",
        "from transformers import BertModel\n",
        "\n",
        "class MultimodalFakeNewsModel(nn.Module):\n",
        "    def __init__(self, text_model_name=\"bert-base-chinese\", num_labels=2):\n",
        "        super().__init__()\n",
        "        # Text Encoder\n",
        "        self.text_encoder = BertModel.from_pretrained(text_model_name)\n",
        "        text_dim = self.text_encoder.config.hidden_size  # 768 for base BERT\n",
        "\n",
        "        # Image Encoder (ResNet50 pretrained on ImageNet)\n",
        "        resnet = models.resnet50(pretrained=True)\n",
        "        resnet.fc = nn.Identity()   # remove final classifier\n",
        "        self.image_encoder = resnet\n",
        "        img_dim = 2048\n",
        "\n",
        "        # Projection layers\n",
        "        self.text_fc = nn.Linear(text_dim, 512)\n",
        "        self.img_fc = nn.Linear(img_dim, 512)\n",
        "\n",
        "        # Fusion classifier\n",
        "        self.classifier = nn.Sequential(\n",
        "            nn.Linear(512 + 512, 512),\n",
        "            nn.ReLU(),\n",
        "            nn.Dropout(0.3),\n",
        "            nn.Linear(512, num_labels)\n",
        "        )\n",
        "\n",
        "    def forward(self, input_ids, attention_mask, images):\n",
        "        # Text features\n",
        "        txt_out = self.text_encoder(input_ids=input_ids, attention_mask=attention_mask, return_dict=True)\n",
        "        txt_feat = txt_out.pooler_output if txt_out.pooler_output is not None else txt_out.last_hidden_state[:,0,:]\n",
        "        txt_feat = self.text_fc(txt_feat)\n",
        "\n",
        "        # Image features\n",
        "        img_feat = self.image_encoder(images)\n",
        "        img_feat = self.img_fc(img_feat)\n",
        "\n",
        "        # Fusion\n",
        "        fused = torch.cat([txt_feat, img_feat], dim=1)\n",
        "        logits = self.classifier(fused)\n",
        "        return logits\n",
        "\n",
        "# Init model\n",
        "model = MultimodalFakeNewsModel().to(DEVICE)\n",
        "print(\"✅ Model ready on:\", DEVICE)\n"
      ],
      "metadata": {
        "colab": {
          "base_uri": "https://localhost:8080/"
        },
        "id": "AQoesJ-7NYOK",
        "outputId": "302518cc-48a1-4cce-c075-2cbeb6adff05"
      },
      "execution_count": 26,
      "outputs": [
        {
          "output_type": "stream",
          "name": "stderr",
          "text": [
            "/usr/local/lib/python3.12/dist-packages/torchvision/models/_utils.py:208: UserWarning: The parameter 'pretrained' is deprecated since 0.13 and may be removed in the future, please use 'weights' instead.\n",
            "  warnings.warn(\n",
            "/usr/local/lib/python3.12/dist-packages/torchvision/models/_utils.py:223: UserWarning: Arguments other than a weight enum or `None` for 'weights' are deprecated since 0.13 and may be removed in the future. The current behavior is equivalent to passing `weights=ResNet50_Weights.IMAGENET1K_V1`. You can also use `weights=ResNet50_Weights.DEFAULT` to get the most up-to-date weights.\n",
            "  warnings.warn(msg)\n"
          ]
        },
        {
          "output_type": "stream",
          "name": "stdout",
          "text": [
            "✅ Model ready on: cuda\n"
          ]
        }
      ]
    },
    {
      "cell_type": "code",
      "source": [
        "# Step 8 – Training & Evaluation Functions\n",
        "\n",
        "criterion = nn.CrossEntropyLoss()\n",
        "optimizer = torch.optim.AdamW(model.parameters(), lr=2e-5)\n",
        "\n",
        "def train_one_epoch(model, loader, optimizer, criterion, device):\n",
        "    model.train()\n",
        "    losses, preds_all, labels_all = [], [], []\n",
        "    for batch in tqdm(loader, desc=\"Train\"):\n",
        "        optimizer.zero_grad()\n",
        "        ids = batch[\"input_ids\"].to(device)\n",
        "        mask = batch[\"attention_mask\"].to(device)\n",
        "        imgs = batch[\"image\"].to(device)\n",
        "        labels = batch[\"label\"].to(device)\n",
        "\n",
        "        logits = model(ids, mask, imgs)\n",
        "        loss = criterion(logits, labels)\n",
        "        loss.backward()\n",
        "        optimizer.step()\n",
        "\n",
        "        losses.append(loss.item())\n",
        "        preds = logits.argmax(dim=1).cpu().numpy()\n",
        "        preds_all.extend(preds)\n",
        "        labels_all.extend(labels.cpu().numpy())\n",
        "    return np.mean(losses), accuracy_score(labels_all, preds_all), f1_score(labels_all, preds_all, average=\"macro\")\n",
        "\n",
        "def evaluate(model, loader, criterion, device):\n",
        "    model.eval()\n",
        "    losses, preds_all, labels_all = [], [], []\n",
        "    with torch.no_grad():\n",
        "        for batch in tqdm(loader, desc=\"Eval\"):\n",
        "            ids = batch[\"input_ids\"].to(device)\n",
        "            mask = batch[\"attention_mask\"].to(device)\n",
        "            imgs = batch[\"image\"].to(device)\n",
        "            labels = batch[\"label\"].to(device)\n",
        "\n",
        "            logits = model(ids, mask, imgs)\n",
        "            loss = criterion(logits, labels)\n",
        "            losses.append(loss.item())\n",
        "\n",
        "            preds = logits.argmax(dim=1).cpu().numpy()\n",
        "            preds_all.extend(preds)\n",
        "            labels_all.extend(labels.cpu().numpy())\n",
        "    return np.mean(losses), accuracy_score(labels_all, preds_all), f1_score(labels_all, preds_all, average=\"macro\")\n"
      ],
      "metadata": {
        "id": "1CesHllLNb88"
      },
      "execution_count": 27,
      "outputs": []
    },
    {
      "cell_type": "code",
      "source": [
        "# Step 9 – Training Loop\n",
        "\n",
        "EPOCHS = 8   # keep small first, increase later\n",
        "best_val_f1 = 0\n",
        "\n",
        "for epoch in range(EPOCHS):\n",
        "    train_loss, train_acc, train_f1 = train_one_epoch(model, train_loader, optimizer, criterion, DEVICE)\n",
        "    val_loss, val_acc, val_f1 = evaluate(model, test_loader, criterion, DEVICE)\n",
        "\n",
        "    print(f\"Epoch {epoch+1}/{EPOCHS} | \"\n",
        "          f\"Train Loss: {train_loss:.4f}, Acc: {train_acc:.3f}, F1: {train_f1:.3f} || \"\n",
        "          f\"Val Loss: {val_loss:.4f}, Acc: {val_acc:.3f}, F1: {val_f1:.3f}\")\n",
        "\n",
        "    # Save best model\n",
        "    if val_f1 > best_val_f1:\n",
        "        best_val_f1 = val_f1\n",
        "        torch.save(model.state_dict(), \"best_model.pt\")\n",
        "        print(\"✅ Saved new best model!\")\n"
      ],
      "metadata": {
        "colab": {
          "base_uri": "https://localhost:8080/"
        },
        "id": "E5qLBeUNNfRt",
        "outputId": "7fd95084-2702-4cc1-e554-5054165c8eed"
      },
      "execution_count": 36,
      "outputs": [
        {
          "output_type": "stream",
          "name": "stderr",
          "text": [
            "Train: 100%|██████████| 567/567 [03:32<00:00,  2.67it/s]\n",
            "Eval: 100%|██████████| 142/142 [00:16<00:00,  8.82it/s]\n"
          ]
        },
        {
          "output_type": "stream",
          "name": "stdout",
          "text": [
            "Epoch 1/8 | Train Loss: 0.0218, Acc: 0.991, F1: 0.991 || Val Loss: 0.2873, Acc: 0.929, F1: 0.929\n",
            "✅ Saved new best model!\n"
          ]
        },
        {
          "output_type": "stream",
          "name": "stderr",
          "text": [
            "Train: 100%|██████████| 567/567 [03:27<00:00,  2.74it/s]\n",
            "Eval: 100%|██████████| 142/142 [00:16<00:00,  8.76it/s]\n"
          ]
        },
        {
          "output_type": "stream",
          "name": "stdout",
          "text": [
            "Epoch 2/8 | Train Loss: 0.0128, Acc: 0.993, F1: 0.993 || Val Loss: 0.3506, Acc: 0.931, F1: 0.931\n",
            "✅ Saved new best model!\n"
          ]
        },
        {
          "output_type": "stream",
          "name": "stderr",
          "text": [
            "Train: 100%|██████████| 567/567 [03:27<00:00,  2.73it/s]\n",
            "Eval: 100%|██████████| 142/142 [00:16<00:00,  8.78it/s]\n"
          ]
        },
        {
          "output_type": "stream",
          "name": "stdout",
          "text": [
            "Epoch 3/8 | Train Loss: 0.0173, Acc: 0.992, F1: 0.992 || Val Loss: 0.3804, Acc: 0.927, F1: 0.927\n"
          ]
        },
        {
          "output_type": "stream",
          "name": "stderr",
          "text": [
            "Train: 100%|██████████| 567/567 [03:26<00:00,  2.74it/s]\n",
            "Eval: 100%|██████████| 142/142 [00:16<00:00,  8.74it/s]\n"
          ]
        },
        {
          "output_type": "stream",
          "name": "stdout",
          "text": [
            "Epoch 4/8 | Train Loss: 0.0223, Acc: 0.990, F1: 0.990 || Val Loss: 0.3205, Acc: 0.923, F1: 0.923\n"
          ]
        },
        {
          "output_type": "stream",
          "name": "stderr",
          "text": [
            "Train: 100%|██████████| 567/567 [03:26<00:00,  2.74it/s]\n",
            "Eval: 100%|██████████| 142/142 [00:16<00:00,  8.83it/s]\n"
          ]
        },
        {
          "output_type": "stream",
          "name": "stdout",
          "text": [
            "Epoch 5/8 | Train Loss: 0.0177, Acc: 0.992, F1: 0.992 || Val Loss: 0.3605, Acc: 0.920, F1: 0.920\n"
          ]
        },
        {
          "output_type": "stream",
          "name": "stderr",
          "text": [
            "Train: 100%|██████████| 567/567 [03:26<00:00,  2.74it/s]\n",
            "Eval: 100%|██████████| 142/142 [00:16<00:00,  8.82it/s]\n"
          ]
        },
        {
          "output_type": "stream",
          "name": "stdout",
          "text": [
            "Epoch 6/8 | Train Loss: 0.0135, Acc: 0.993, F1: 0.993 || Val Loss: 0.3922, Acc: 0.930, F1: 0.930\n"
          ]
        },
        {
          "output_type": "stream",
          "name": "stderr",
          "text": [
            "Train: 100%|██████████| 567/567 [03:26<00:00,  2.74it/s]\n",
            "Eval: 100%|██████████| 142/142 [00:16<00:00,  8.80it/s]\n"
          ]
        },
        {
          "output_type": "stream",
          "name": "stdout",
          "text": [
            "Epoch 7/8 | Train Loss: 0.0155, Acc: 0.992, F1: 0.992 || Val Loss: 0.4306, Acc: 0.924, F1: 0.924\n"
          ]
        },
        {
          "output_type": "stream",
          "name": "stderr",
          "text": [
            "Train: 100%|██████████| 567/567 [03:26<00:00,  2.74it/s]\n",
            "Eval: 100%|██████████| 142/142 [00:16<00:00,  8.84it/s]\n"
          ]
        },
        {
          "output_type": "stream",
          "name": "stdout",
          "text": [
            "Epoch 8/8 | Train Loss: 0.0215, Acc: 0.992, F1: 0.992 || Val Loss: 0.3456, Acc: 0.931, F1: 0.931\n",
            "✅ Saved new best model!\n"
          ]
        }
      ]
    },
    {
      "cell_type": "code",
      "source": [
        "# Step 10 – Inference Helper\n",
        "\n",
        "def infer(text, image_path=None):\n",
        "    model.eval()\n",
        "    enc = tokenizer(text, padding=\"max_length\", truncation=True, max_length=MAX_LEN, return_tensors=\"pt\")\n",
        "    ids, mask = enc[\"input_ids\"].to(DEVICE), enc[\"attention_mask\"].to(DEVICE)\n",
        "\n",
        "    if image_path and os.path.exists(image_path):\n",
        "        img = Image.open(image_path).convert(\"RGB\")\n",
        "        img_tensor = image_transform(img).unsqueeze(0).to(DEVICE)\n",
        "    else:\n",
        "        img_tensor = torch.zeros(1,3,224,224).to(DEVICE)\n",
        "\n",
        "    with torch.no_grad():\n",
        "        logits = model(ids, mask, img_tensor)\n",
        "        probs = torch.softmax(logits, dim=1).cpu().numpy()[0]\n",
        "        pred = int(np.argmax(probs))\n",
        "    return pred, probs\n",
        "\n",
        "# Test on one sample\n",
        "sample = test_df.sample(1).iloc[0]\n",
        "pred, probs = infer(sample[\"text\"], sample[\"image\"] if pd.notna(sample[\"image\"]) else None)\n",
        "print(\"True:\", sample[\"label\"], \"| Pred:\", pred, \"| Probs:\", probs)\n"
      ],
      "metadata": {
        "colab": {
          "base_uri": "https://localhost:8080/"
        },
        "id": "QP3tYSguNjcq",
        "outputId": "54a306d5-6ca0-43ee-f533-af0c1f609c50"
      },
      "execution_count": 37,
      "outputs": [
        {
          "output_type": "stream",
          "name": "stdout",
          "text": [
            "True: 1 | Pred: 1 | Probs: [1.0192944e-04 9.9989808e-01]\n"
          ]
        }
      ]
    },
    {
      "cell_type": "code",
      "source": [
        "# Confusion Matrix & Classification Report\n",
        "from sklearn.metrics import classification_report, confusion_matrix\n",
        "import seaborn as sns\n",
        "import matplotlib.pyplot as plt\n",
        "\n",
        "# 🔹 Evaluate on test set\n",
        "model.load_state_dict(torch.load(\"best_model.pt\"))\n",
        "model.eval()\n",
        "\n",
        "all_preds, all_labels = [], []\n",
        "\n",
        "with torch.no_grad():\n",
        "    for batch in test_loader:\n",
        "        ids = batch[\"input_ids\"].to(DEVICE)\n",
        "        mask = batch[\"attention_mask\"].to(DEVICE)\n",
        "        imgs = batch[\"image\"].to(DEVICE)\n",
        "        labels = batch[\"label\"].to(DEVICE)\n",
        "\n",
        "        logits = model(ids, mask, imgs)\n",
        "        preds = logits.argmax(dim=1).cpu().numpy()\n",
        "        all_preds.extend(preds)\n",
        "        all_labels.extend(labels.cpu().numpy())\n",
        "\n",
        "# Classification report\n",
        "print(\"📊 Classification Report:\\n\", classification_report(all_labels, all_preds, digits=4))\n",
        "\n",
        "# Confusion matrix\n",
        "cm = confusion_matrix(all_labels, all_preds)\n",
        "plt.figure(figsize=(5,4))\n",
        "sns.heatmap(cm, annot=True, fmt=\"d\", cmap=\"Blues\",\n",
        "            xticklabels=[\"Real\", \"Fake\"],\n",
        "            yticklabels=[\"Real\", \"Fake\"])\n",
        "plt.xlabel(\"Predicted\")\n",
        "plt.ylabel(\"True\")\n",
        "plt.title(\"Confusion Matrix\")\n",
        "plt.show()\n"
      ],
      "metadata": {
        "colab": {
          "base_uri": "https://localhost:8080/",
          "height": 584
        },
        "id": "6pzDVPaJWgQp",
        "outputId": "1b8f687e-809a-4efd-9af3-b9e7ebe6f1ed"
      },
      "execution_count": 38,
      "outputs": [
        {
          "output_type": "stream",
          "name": "stdout",
          "text": [
            "📊 Classification Report:\n",
            "               precision    recall  f1-score   support\n",
            "\n",
            "           0     0.9453    0.9145    0.9296      1134\n",
            "           1     0.9170    0.9470    0.9318      1132\n",
            "\n",
            "    accuracy                         0.9307      2266\n",
            "   macro avg     0.9312    0.9307    0.9307      2266\n",
            "weighted avg     0.9312    0.9307    0.9307      2266\n",
            "\n"
          ]
        },
        {
          "output_type": "display_data",
          "data": {
            "text/plain": [
              "<Figure size 500x400 with 2 Axes>"
            ],
            "image/png": "[encoded data removed]"
          },
          "metadata": {}
        }
      ]
    }
  ]
}